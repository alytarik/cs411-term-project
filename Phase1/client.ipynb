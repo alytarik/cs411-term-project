{
 "cells": [
  {
   "cell_type": "code",
   "execution_count": 93,
   "metadata": {},
   "outputs": [],
   "source": [
    "import math\n",
    "import time\n",
    "import random\n",
    "import sympy\n",
    "import warnings\n",
    "from random import randint, seed\n",
    "import sys\n",
    "from ecpy.curves import Curve,Point\n",
    "from Crypto.Hash import SHA3_256, HMAC, SHA256\n",
    "import requests\n",
    "from Crypto.Cipher import AES\n",
    "from Crypto import Random\n",
    "from Crypto.Util.Padding import pad\n",
    "from Crypto.Util.Padding import unpad\n",
    "import random\n",
    "import re\n",
    "import json"
   ]
  },
  {
   "cell_type": "code",
   "execution_count": 20,
   "metadata": {},
   "outputs": [],
   "source": [
    "E = Curve.get_curve('secp256k1')\n",
    "n = E.order\n",
    "p = E.field\n",
    "P = E.generator\n",
    "a = E.a\n",
    "b = E.b"
   ]
  },
  {
   "cell_type": "code",
   "execution_count": 94,
   "metadata": {},
   "outputs": [],
   "source": [
    "API_URL = 'http://10.92.55.4:5000'\n",
    "\n",
    "stuID = 28374 #Enter Your ID\n",
    "\n",
    "#Server's Identitiy public key\n",
    "IKey_Ser = Point(0xce1a69ecc226f9e667856ce37a44e50dbea3d58e3558078baee8fe5e017a556d, 0x13ddaf97158206b1d80258d7f6a6880e7aaf13180e060bb1e94174e419a4a093, E)\n",
    "# Use the values in the project description document to form the server's IK as a point on the EC. Note that the values should be in decimal.\n"
   ]
  },
  {
   "cell_type": "code",
   "execution_count": 95,
   "metadata": {},
   "outputs": [],
   "source": [
    "def IKRegReq(h,s,x,y):\n",
    "    mes = {'ID':stuID, 'H': h, 'S': s, 'IKPUB.X': x, 'IKPUB.Y': y}\n",
    "    print(\"Sending message is: \", mes)\n",
    "    response = requests.put('{}/{}'.format(API_URL, \"IKRegReq\"), json = mes)\t\t\n",
    "    if((response.ok) == False): print(response.json())\n",
    "\n",
    "def IKRegVerify(code):\n",
    "    mes = {'ID':stuID, 'CODE': code}\n",
    "    print(\"Sending message is: \", mes)\n",
    "    response = requests.put('{}/{}'.format(API_URL, \"IKRegVerif\"), json = mes)\n",
    "    if((response.ok) == False): raise Exception(response.json())\n",
    "    else:\n",
    "        print(response.json())\n",
    "        f = open('Identity_Key.txt', 'w')\n",
    "        f.write(\"IK.Prv: \"+str(IKey_Pr)+\"\\n\"+\"IK.Pub.x: \"+str(IKey_Pub.x)+\"\\n\"+\"IK.Pub.y: \"+str(IKey_Pub.y))\n",
    "        f.close()\n",
    "\n",
    "def SPKReg(h,s,x,y):\n",
    "    mes = {'ID':stuID, 'H': h, 'S': s, 'SPKPUB.X': x, 'SPKPUB.Y': y}\n",
    "    print(\"Sending message is: \", mes)\n",
    "    response = requests.put('{}/{}'.format(API_URL, \"SPKReg\"), json = mes)\t\t\n",
    "    if((response.ok) == False): \n",
    "        print(response.json())\n",
    "    else: \n",
    "        res = response.json()\n",
    "        return res['SPKPUB.X'], res['SPKPUB.Y'], res['H'], res['S']\n",
    "\n",
    "def OTKReg(keyID,x,y,hmac):\n",
    "    mes = {'ID':stuID, 'KEYID': keyID, 'OTKI.X': x, 'OTKI.Y': y, 'HMACI': hmac}\n",
    "    print(\"Sending message is: \", mes)\n",
    "    response = requests.put('{}/{}'.format(API_URL, \"OTKReg\"), json = mes)\t\t\n",
    "    print(response.json())\n",
    "    if((response.ok) == False): return False\n",
    "    else: return True\n",
    "\n",
    "\n",
    "def ResetIK(rcode):\n",
    "    mes = {'ID':stuID, 'RCODE': rcode}\n",
    "    print(\"Sending message is: \", mes)\n",
    "    response = requests.delete('{}/{}'.format(API_URL, \"ResetIK\"), json = mes)\t\t\n",
    "    print(response.json())\n",
    "    if((response.ok) == False): return False\n",
    "    else: return True\n",
    "\n",
    "def ResetSPK(h,s):\n",
    "    mes = {'ID':stuID, 'H': h, 'S': s}\n",
    "    print(\"Sending message is: \", mes)\n",
    "    response = requests.delete('{}/{}'.format(API_URL, \"ResetSPK\"), json = mes)\t\t\n",
    "    print(response.json())\n",
    "    if((response.ok) == False): return False\n",
    "    else: return True\n",
    "\n",
    "\n",
    "def ResetOTK(h,s):\n",
    "    mes = {'ID':stuID, 'H': h, 'S': s}\n",
    "    print(\"Sending message is: \", mes)\n",
    "    response = requests.delete('{}/{}'.format(API_URL, \"ResetOTK\"), json = mes)\t\t\n",
    "    if((response.ok) == False): print(response.json())\n",
    "\n"
   ]
  },
  {
   "cell_type": "code",
   "execution_count": 117,
   "metadata": {},
   "outputs": [],
   "source": [
    "def GenerateKey():\n",
    "  pri = random.randint(0,n-1)\n",
    "  pub = pri * P\n",
    "  return pri, pub"
   ]
  },
  {
   "cell_type": "code",
   "execution_count": 22,
   "metadata": {},
   "outputs": [],
   "source": [
    "IKey_Pr = int.from_bytes(b\"this is my secret\", byteorder=\"big\") % n\n",
    "IKey_Pub = IKey_Pr * P"
   ]
  },
  {
   "cell_type": "code",
   "execution_count": 43,
   "metadata": {},
   "outputs": [],
   "source": [
    "def SignMessage(m):\n",
    "  k = random.randint(1, n-2)\n",
    "\n",
    "  R = k * P\n",
    "  r = R.x % n\n",
    "\n",
    "  r_bytes = r.to_bytes(math.ceil(r.bit_length()/8), 'big')\n",
    "  if isinstance(m, int):\n",
    "    m = m.to_bytes(math.ceil(m.bit_length()/8), 'big')\n",
    "  \n",
    "  h = SHA3_256.new(r_bytes + m)\n",
    "  h = h.digest()\n",
    "  h = int.from_bytes(h,\"big\")\n",
    "  h = h % n\n",
    "  \n",
    "  s = (k + IKey_Pr * h) % n\n",
    "  \n",
    "  return h, s"
   ]
  },
  {
   "cell_type": "code",
   "execution_count": 83,
   "metadata": {},
   "outputs": [],
   "source": [
    "def VerifySignature(m, h, s, Key_Pub):\n",
    "  V = s * P - h * Key_Pub\n",
    "  v = V.x % n\n",
    "\n",
    "  v_bytes = v.to_bytes(math.ceil(v.bit_length()/8), 'big')\n",
    "  if isinstance(m, int):\n",
    "    m = m.to_bytes(math.ceil(m.bit_length()/8), 'big')\n",
    "\n",
    "  h2 = SHA3_256.new(v_bytes + m)\n",
    "  h2 = h2.digest()\n",
    "  h2 = int.from_bytes(h2,\"big\") % n\n",
    "  h2 = h2 % n\n",
    "  return h2 == h"
   ]
  },
  {
   "cell_type": "code",
   "execution_count": 73,
   "metadata": {},
   "outputs": [],
   "source": [
    "h, s = SignMessage(stuID)"
   ]
  },
  {
   "cell_type": "code",
   "execution_count": 77,
   "metadata": {},
   "outputs": [
    {
     "data": {
      "text/plain": [
       "True"
      ]
     },
     "execution_count": 77,
     "metadata": {},
     "output_type": "execute_result"
    }
   ],
   "source": [
    "VerifySignature(stuID, h, s, IKey_Pub)"
   ]
  },
  {
   "cell_type": "code",
   "execution_count": 27,
   "metadata": {},
   "outputs": [
    {
     "name": "stdout",
     "output_type": "stream",
     "text": [
      "Sending message is:  {'ID': 28374, 'H': 91524442026738960398099114529467009562870631138826016684572945633488846875208, 'S': 52487043771225581505444596344839468615657118325051274984779581026310898394349, 'IKPUB.X': 14407597495457330413355653872827102679455709776888388952403808005076122499711, 'IKPUB.Y': 99025964784026725443948688290160998982011637383044340806584066476475475584575}\n"
     ]
    }
   ],
   "source": [
    "IKRegReq(h, s, IKey_Pub.x, IKey_Pub.y)"
   ]
  },
  {
   "cell_type": "code",
   "execution_count": 29,
   "metadata": {},
   "outputs": [],
   "source": [
    "CODE = 462614"
   ]
  },
  {
   "cell_type": "code",
   "execution_count": 30,
   "metadata": {},
   "outputs": [
    {
     "name": "stdout",
     "output_type": "stream",
     "text": [
      "Sending message is:  {'ID': 28374, 'CODE': 462614}\n",
      "Registered successfully\n"
     ]
    }
   ],
   "source": [
    "IKRegVerify(CODE)"
   ]
  },
  {
   "cell_type": "code",
   "execution_count": 31,
   "metadata": {},
   "outputs": [],
   "source": [
    "RCODE = 740117"
   ]
  },
  {
   "cell_type": "code",
   "execution_count": 58,
   "metadata": {},
   "outputs": [],
   "source": [
    "SPK_A_Pri, SPK_A_Pub = GenerateKey(33232637425696107713632882735238964086585438341980536407357193648214666452195)"
   ]
  },
  {
   "cell_type": "code",
   "execution_count": 79,
   "metadata": {},
   "outputs": [],
   "source": [
    "SPK_A_message = SPK_A_Pub.x.to_bytes(math.ceil(SPK_A_Pub.x.bit_length()/8), 'big') + SPK_A_Pub.y.to_bytes(math.ceil(SPK_A_Pub.y.bit_length()/8), 'big')\n",
    "SPK_A_h, SPK_A_s = SignMessage(SPK_A_message)"
   ]
  },
  {
   "cell_type": "code",
   "execution_count": 80,
   "metadata": {},
   "outputs": [
    {
     "name": "stdout",
     "output_type": "stream",
     "text": [
      "Sending message is:  {'ID': 28374, 'H': 96050651532608626925049414869311378194339351393712219086830868958732537148573, 'S': 44525415036427161336212359121105819214304037234027977106704928780044718131511, 'SPKPUB.X': 35999222419857415020415158017962267267768487712861254018342541626575617043219, 'SPKPUB.Y': 100536607320859216686041236553405992186374232474394814455179841590277269847771}\n"
     ]
    }
   ],
   "source": [
    "SPK_S_X, SPK_S_Y, SPK_S_h, SPK_S_s = SPKReg(SPK_A_h, SPK_A_s, SPK_A_Pub.x, SPK_A_Pub.y)\n",
    "SPK_S_Pub = Point(SPK_S_X, SPK_S_Y, E)"
   ]
  },
  {
   "cell_type": "code",
   "execution_count": 92,
   "metadata": {},
   "outputs": [
    {
     "data": {
      "text/plain": [
       "True"
      ]
     },
     "execution_count": 92,
     "metadata": {},
     "output_type": "execute_result"
    }
   ],
   "source": [
    "SPK_S_message = SPK_S_Pub.x.to_bytes(math.ceil(SPK_S_Pub.x.bit_length()/8), 'big') + SPK_S_Pub.y.to_bytes(math.ceil(SPK_S_Pub.y.bit_length()/8), 'big')\n",
    "\n",
    "VerifySignature(SPK_S_message, SPK_S_h, SPK_S_s, IKey_Ser)"
   ]
  },
  {
   "cell_type": "code",
   "execution_count": 110,
   "metadata": {},
   "outputs": [],
   "source": [
    "# Generate HMAX Key\n",
    "T = SPK_A_Pri * SPK_S_Pub\n",
    "U = b'CuriosityIsTheHMACKeyToCreativity' + T.y.to_bytes(math.ceil(T.y.bit_length()/8), 'big') + T.x.to_bytes(math.ceil(T.x.bit_length()/8), 'big')\n",
    "K_HMAC = SHA3_256.new(U).digest()"
   ]
  },
  {
   "cell_type": "code",
   "execution_count": 120,
   "metadata": {},
   "outputs": [
    {
     "name": "stdout",
     "output_type": "stream",
     "text": [
      "Sending message is:  {'ID': 28374, 'KEYID': 0, 'OTKI.X': 27972663979373135832933264867245307338048170062187415390798417213879312620569, 'OTKI.Y': 23568508699570858293469286654702964761790454308867406353293944970610676316172, 'HMACI': '2cce6b8b9d2b423ae976ac7c0dc0349c2a5c549a386b03ba70b2b9ba58968a99'}\n",
      "OTK with ID number 0 is registered successfully\n",
      "Sending message is:  {'ID': 28374, 'KEYID': 1, 'OTKI.X': 57187453263583558274552558253625210289996711981430724575619931614910934037506, 'OTKI.Y': 4513124773096275672392905500886905966622685004487935999175470249449727930029, 'HMACI': '718038b54654c8ccf88db4e61c856022f7b92fda680c7970271ab86348f7c0f4'}\n",
      "OTK with ID number 1 is registered successfully\n",
      "Sending message is:  {'ID': 28374, 'KEYID': 2, 'OTKI.X': 42909666989721832656052568395214777913805513981560164695865730959251183046737, 'OTKI.Y': 24136968282158388745806642209569965759212858106280024126635484989679457984242, 'HMACI': 'a1d25654d931ea78f30efc330dba8ee99fe331866708d69f806da17719eed295'}\n",
      "OTK with ID number 2 is registered successfully\n",
      "Sending message is:  {'ID': 28374, 'KEYID': 3, 'OTKI.X': 76580179472134474056821878967303397714607513256418830468321837334090306439518, 'OTKI.Y': 115642805691561228462251950335773015162643254621885613594320657112154494971059, 'HMACI': '0d4a0f5f88f781add78f90b64145ba8826e0c42f88136c6e9f19dc6b658ee361'}\n",
      "OTK with ID number 3 is registered successfully\n",
      "Sending message is:  {'ID': 28374, 'KEYID': 4, 'OTKI.X': 51592260907185102380259737092565024121691283076377232272466137812539906373531, 'OTKI.Y': 102945239212191632797177849142242744300066235934278801275585543411497344833801, 'HMACI': '77b9520d1df47e12fa34166fc6f500cd99908c35361c5729d1ed280c171db3b6'}\n",
      "OTK with ID number 4 is registered successfully\n",
      "Sending message is:  {'ID': 28374, 'KEYID': 5, 'OTKI.X': 76879863786057451136346093255718482548475850444868942690077725253272752551645, 'OTKI.Y': 72127538431356085684509718729661952379670447731774364384616052545456009861991, 'HMACI': '0fd8c30f9a5b1667160d8af29b3d3be9014a65652d758a18dd2ef8118d3f105e'}\n",
      "OTK with ID number 5 is registered successfully\n",
      "Sending message is:  {'ID': 28374, 'KEYID': 6, 'OTKI.X': 85994811018102217669219277804158129719711455414008910892098756318961179446240, 'OTKI.Y': 19535253542745855625339211236309483097885101126184883646500060576739236269519, 'HMACI': 'a03b59e8a33bf63251c3a43c9f033aae5601754b3453f12c144f3125aaad1162'}\n",
      "OTK with ID number 6 is registered successfully\n",
      "Sending message is:  {'ID': 28374, 'KEYID': 7, 'OTKI.X': 62012640698647854228354948405783906219383947070323533010156802882936359770329, 'OTKI.Y': 114396652708051735068975649197879534167126106327500294567497714341494891910137, 'HMACI': '56808b8a679cad037817a149d2e938f43ee88f29034d3ce7baa5f14dd4930285'}\n",
      "OTK with ID number 7 is registered successfully\n",
      "Sending message is:  {'ID': 28374, 'KEYID': 8, 'OTKI.X': 85883632276972631680690502238017123315554354536160080312226264924659491991156, 'OTKI.Y': 103535981755235446560351408424261518427286273933419224917830265252446612382110, 'HMACI': '4ba9b8c54e3ffd8fbd6614ba12be583a81bbc6630a322836b9e2c64a012d13ef'}\n",
      "OTK with ID number 8 is registered successfully\n",
      "Sending message is:  {'ID': 28374, 'KEYID': 9, 'OTKI.X': 70776858890148553044399937319422601115707449516484154267564378058450569168496, 'OTKI.Y': 60316323414410699950090984058421964660980676565744863912609955632856485397060, 'HMACI': 'a390b6d0e8fe6bf82f9fb148c38f88a789f8ca9f49a7d92a2bc981809d68dc2b'}\n",
      "OTK with ID number 9 is registered successfully\n"
     ]
    }
   ],
   "source": [
    "# Generate OTKs\n",
    "OTKs=[]\n",
    "for i in range(10):\n",
    "  priv, pub = GenerateKey()\n",
    "  m = pub.x.to_bytes(math.ceil(pub.x.bit_length()/8), 'big') + pub.y.to_bytes(math.ceil(pub.y.bit_length()/8), 'big')\n",
    "  hmaci = HMAC.new(K_HMAC, m, digestmod=SHA256).hexdigest()\n",
    "  OTKReg(i, pub.x, pub.y, hmaci)\n",
    "  OTKs.append((priv, pub))"
   ]
  },
  {
   "cell_type": "code",
   "execution_count": 121,
   "metadata": {},
   "outputs": [],
   "source": [
    "with open(\"otks.txt\", \"w+\") as f:\n",
    "  for otk in OTKs:\n",
    "    f.write(f\"{otk[0]} {otk[1].x} {otk[1].y}\\n\")"
   ]
  }
 ],
 "metadata": {
  "kernelspec": {
   "display_name": "Python 3",
   "language": "python",
   "name": "python3"
  },
  "language_info": {
   "codemirror_mode": {
    "name": "ipython",
    "version": 3
   },
   "file_extension": ".py",
   "mimetype": "text/x-python",
   "name": "python",
   "nbconvert_exporter": "python",
   "pygments_lexer": "ipython3",
   "version": "3.10.7 (tags/v3.10.7:6cc6b13, Sep  5 2022, 14:08:36) [MSC v.1933 64 bit (AMD64)]"
  },
  "orig_nbformat": 4,
  "vscode": {
   "interpreter": {
    "hash": "f5fe054353a3ea95c740dbd5d0157a46c65128dd73b0bf0efea202159c214138"
   }
  }
 },
 "nbformat": 4,
 "nbformat_minor": 2
}
