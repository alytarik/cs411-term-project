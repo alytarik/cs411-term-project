{
 "cells": [
  {
   "cell_type": "code",
   "execution_count": 1,
   "metadata": {},
   "outputs": [],
   "source": [
    "import math\n",
    "import time\n",
    "import random\n",
    "import sympy\n",
    "import warnings\n",
    "from random import randint, seed\n",
    "import sys\n",
    "from ecpy.curves import Curve,Point\n",
    "from Crypto.Hash import SHA3_256, HMAC, SHA256\n",
    "import requests\n",
    "from Crypto.Cipher import AES\n",
    "from Crypto import Random\n",
    "from Crypto.Util.Padding import pad\n",
    "from Crypto.Util.Padding import unpad\n",
    "import random\n",
    "import re\n",
    "import json"
   ]
  },
  {
   "cell_type": "code",
   "execution_count": 2,
   "metadata": {},
   "outputs": [],
   "source": [
    "API_URL = 'http://10.92.52.255:5000/'\n",
    "\n",
    "stuID = 28374"
   ]
  },
  {
   "cell_type": "code",
   "execution_count": 3,
   "metadata": {},
   "outputs": [],
   "source": [
    "E = Curve.get_curve('secp256k1')\n",
    "n = E.order\n",
    "p = E.field\n",
    "P = E.generator\n",
    "a = E.a\n",
    "b = E.b"
   ]
  },
  {
   "cell_type": "code",
   "execution_count": 4,
   "metadata": {},
   "outputs": [],
   "source": [
    "def egcd(a, b):\n",
    "    x,y, u,v = 0,1, 1,0\n",
    "    while a != 0:\n",
    "        q, r = b//a, b%a\n",
    "        m, n = x-u*q, y-v*q\n",
    "        b,a, x,y, u,v = a,r, u,v, m,n\n",
    "    gcd = b\n",
    "    return gcd, x, y\n",
    "\n",
    "def modinv(a, m):\n",
    "    gcd, x, y = egcd(a, m)\n",
    "    if gcd != 1:\n",
    "        return None  # modular inverse does not exist\n",
    "    else:\n",
    "        return x % m\n",
    "\n",
    "def Setup():\n",
    "    E = Curve.get_curve('secp256k1')\n",
    "    return E\n",
    "\n",
    "def KeyGen(E):\n",
    "    n = E.order\n",
    "    P = E.generator\n",
    "    sA = randint(1,n-1)\n",
    "    QA = sA*P\n",
    "    return sA, QA\n",
    "\n",
    "def SignGen(message, E, sA):\n",
    "    n = E.order\n",
    "    P = E.generator\n",
    "    k = randint(1, n-2)\n",
    "    R = k*P\n",
    "    r = R.x % n\n",
    "    h = int.from_bytes(SHA3_256.new(r.to_bytes((r.bit_length()+7)//8, byteorder='big')+message).digest(), byteorder='big')%n\n",
    "    s = (sA*h + k) % n\n",
    "    return h, s\n",
    "\n",
    "def SignVer(message, h, s, E, QA):\n",
    "    n = E.order\n",
    "    P = E.generator\n",
    "    V = s*P - h*QA\n",
    "    v = V.x % n\n",
    "    h_ = int.from_bytes(SHA3_256.new(v.to_bytes((v.bit_length()+7)//8, byteorder='big')+message).digest(), byteorder='big')%n\n",
    "    if h_ == h:\n",
    "        return True\n",
    "    else:\n",
    "        return False\n",
    "\n",
    "\n",
    "#server's Identitiy public key\n",
    "IKey_Ser = Point(93223115898197558905062012489877327981787036929201444813217704012422483432813 , 8985629203225767185464920094198364255740987346743912071843303975587695337619, E)\n",
    "\n",
    "def IKRegReq(h,s,x,y):\n",
    "    mes = {'ID':stuID, 'H': h, 'S': s, 'IKPUB.X': x, 'IKPUB.Y': y}\n",
    "    print(\"Sending message is: \", mes)\n",
    "    response = requests.put('{}/{}'.format(API_URL, \"IKRegReq\"), json = mes)\t\t\n",
    "    if((response.ok) == False): print(response.json())\n",
    "    print(response.json())\n",
    "\n",
    "def IKRegVerify(code):\n",
    "    mes = {'ID':stuID, 'CODE': code}\n",
    "    print(\"Sending message is: \", mes)\n",
    "    response = requests.put('{}/{}'.format(API_URL, \"IKRegVerif\"), json = mes)\n",
    "    if((response.ok) == False): raise Exception(response.json())\n",
    "    print(response.json())\n",
    "\n",
    "def SPKReg(h,s,x,y):\n",
    "    mes = {'ID':stuID, 'H': h, 'S': s, 'SPKPUB.X': x, 'SPKPUB.Y': y}\n",
    "    print(\"Sending message is: \", mes)\n",
    "    response = requests.put('{}/{}'.format(API_URL, \"SPKReg\"), json = mes)\t\t\n",
    "    if((response.ok) == False): \n",
    "        print(response.json())\n",
    "    else: \n",
    "        res = response.json()\n",
    "        return res['SPKPUB.X'], res['SPKPUB.Y'], res['H'], res['S']\n",
    "\n",
    "def OTKReg(keyID,x,y,hmac):\n",
    "    mes = {'ID':stuID, 'KEYID': keyID, 'OTKI.X': x, 'OTKI.Y': y, 'HMACI': hmac}\n",
    "    print(\"Sending message is: \", mes)\n",
    "    response = requests.put('{}/{}'.format(API_URL, \"OTKReg\"), json = mes)\t\t\n",
    "    print(response.json())\n",
    "    if((response.ok) == False): return False\n",
    "    else: return True\n",
    "\n",
    "\n",
    "def ResetIK(rcode):\n",
    "    mes = {'ID':stuID, 'RCODE': rcode}\n",
    "    print(\"Sending message is: \", mes)\n",
    "    response = requests.delete('{}/{}'.format(API_URL, \"ResetIK\"), json = mes)\t\t\n",
    "    print(response.json())\n",
    "    if((response.ok) == False): return False\n",
    "    else: return True\n",
    "\n",
    "def ResetSPK(h,s):\n",
    "    mes = {'ID':stuID, 'H': h, 'S': s}\n",
    "    print(\"Sending message is: \", mes)\n",
    "    response = requests.delete('{}/{}'.format(API_URL, \"ResetSPK\"), json = mes)\t\t\n",
    "    print(response.json())\n",
    "    if((response.ok) == False): return False\n",
    "    else: return True\n",
    "\n",
    "def ResetOTK(h,s):\n",
    "    mes = {'ID':stuID, 'H': h, 'S': s}\n",
    "    print(\"Sending message is: \", mes)\n",
    "    response = requests.delete('{}/{}'.format(API_URL, \"ResetOTK\"), json = mes)\t\t\n",
    "    print(response.json())\n",
    "\n",
    "############## The new functions of phase 2 ###############\n",
    "\n",
    "#Pseudo-client will send you 5 messages to your inbox via server when you call this function\n",
    "def PseudoSendMsg(h,s):\n",
    "    mes = {'ID':stuID, 'H': h, 'S': s}\n",
    "    print(\"Sending message is: \", mes)\n",
    "    response = requests.put('{}/{}'.format(API_URL, \"PseudoSendMsg\"), json = mes)\t\t\n",
    "    print(response.json())\n",
    "\n",
    "#Get your messages. server will send 1 message from your inbox\n",
    "def ReqMsg(h,s):\n",
    "    mes = {'ID':stuID, 'H': h, 'S': s}\n",
    "    print(\"Sending message is: \", mes)\n",
    "    response = requests.get('{}/{}'.format(API_URL, \"ReqMsg\"), json = mes)\t\n",
    "    print(response.json())\t\n",
    "    if((response.ok) == True): \n",
    "        res = response.json()\n",
    "        return res[\"IDB\"], res[\"OTKID\"], res[\"MSGID\"], res[\"MSG\"], res[\"EK.X\"], res[\"EK.Y\"]\n",
    "\n",
    "#Get the list of the deleted messages' ids.\n",
    "def ReqDelMsg(h,s):\n",
    "    mes = {'ID':stuID, 'H': h, 'S': s}\n",
    "    print(\"Sending message is: \", mes)\n",
    "    response = requests.get('{}/{}'.format(API_URL, \"ReqDelMsgs\"), json = mes)      \n",
    "    print(response.json())      \n",
    "    if((response.ok) == True): \n",
    "        res = response.json()\n",
    "        return res[\"MSGID\"]\n",
    "\n",
    "#If you decrypted the message, send back the plaintext for checking\n",
    "def Checker(stuID, stuIDB, msgID, decmsg):\n",
    "    mes = {'IDA':stuID, 'IDB':stuIDB, 'MSGID': msgID, 'DECMSG': decmsg}\n",
    "    print(\"Sending message is: \", mes)\n",
    "    response = requests.put('{}/{}'.format(API_URL, \"Checker\"), json = mes)\t\t\n",
    "    print(response.json())\n"
   ]
  },
  {
   "cell_type": "code",
   "execution_count": 17,
   "metadata": {},
   "outputs": [],
   "source": [
    "def GenerateKey(pri=-1):\n",
    "  if pri == -1:\n",
    "    pri = random.randint(0,n-1)\n",
    "  pub = pri * P\n",
    "  return pri, pub"
   ]
  },
  {
   "cell_type": "code",
   "execution_count": 18,
   "metadata": {},
   "outputs": [],
   "source": [
    "IKey_Pr = int.from_bytes(b\"this is a very very very secret key!\", byteorder=\"big\") % n\n",
    "IKey_Pub = IKey_Pr * P"
   ]
  },
  {
   "cell_type": "code",
   "execution_count": 19,
   "metadata": {},
   "outputs": [
    {
     "data": {
      "text/plain": [
       "14660324670243075630000635893444662718789579794562255004660387285071415640046"
      ]
     },
     "execution_count": 19,
     "metadata": {},
     "output_type": "execute_result"
    }
   ],
   "source": [
    "IKey_Pr"
   ]
  },
  {
   "cell_type": "code",
   "execution_count": 20,
   "metadata": {},
   "outputs": [
    {
     "data": {
      "text/plain": [
       "True"
      ]
     },
     "execution_count": 20,
     "metadata": {},
     "output_type": "execute_result"
    }
   ],
   "source": [
    "stuID_signed = SignGen(stuID.to_bytes(math.ceil(stuID.bit_length()/8), \"big\"), E, IKey_Pr)\n",
    "SignVer(stuID.to_bytes(math.ceil(stuID.bit_length()/8),\"big\"), stuID_signed[0], stuID_signed[1], E, IKey_Pub)"
   ]
  },
  {
   "cell_type": "code",
   "execution_count": 21,
   "metadata": {},
   "outputs": [
    {
     "name": "stdout",
     "output_type": "stream",
     "text": [
      "Sending message is:  {'ID': 28374, 'H': 14003361747863711575107485847218966247208491174002245767442180511820528443999, 'S': 26129671104882079018878570807775261477349243389097282567295507801782727186724, 'IKPUB.X': 59789841742109204850564918020815376627555014601137729807885099765009802042661, 'IKPUB.Y': 57547776729331717451156309143069826691328908716635831074670254759332423229699}\n",
      "We have sent a verification code to your SU email. If you cant see the email, check your spam folder\n"
     ]
    }
   ],
   "source": [
    "IKRegReq(stuID_signed[0], stuID_signed[1], IKey_Pub.x,  IKey_Pub.y)"
   ]
  },
  {
   "cell_type": "code",
   "execution_count": 22,
   "metadata": {},
   "outputs": [],
   "source": [
    "CODE = 565496"
   ]
  },
  {
   "cell_type": "code",
   "execution_count": 23,
   "metadata": {},
   "outputs": [
    {
     "name": "stdout",
     "output_type": "stream",
     "text": [
      "Sending message is:  {'ID': 28374, 'CODE': 565496}\n",
      "Registered successfully\n"
     ]
    }
   ],
   "source": [
    "IKRegVerify(CODE)"
   ]
  },
  {
   "cell_type": "code",
   "execution_count": 24,
   "metadata": {},
   "outputs": [],
   "source": [
    "RCODE = 887816\n",
    "#ResetIK(RCODE)"
   ]
  },
  {
   "cell_type": "code",
   "execution_count": 25,
   "metadata": {},
   "outputs": [
    {
     "name": "stdout",
     "output_type": "stream",
     "text": [
      "11786423727943086685271019354073903964054819384868285139085017019872442465785\n"
     ]
    }
   ],
   "source": [
    "SPK_A_Pri, SPK_A_Pub = GenerateKey(11786423727943086685271019354073903964054819384868285139085017019872442465785)\n",
    "print(SPK_A_Pri)"
   ]
  },
  {
   "cell_type": "code",
   "execution_count": 26,
   "metadata": {},
   "outputs": [
    {
     "name": "stdout",
     "output_type": "stream",
     "text": [
      "Sending message is:  {'ID': 28374, 'H': 50139487143911887391897777232166234117231778680325192797770587997492209967547, 'S': 85185251379668123779860426787070865792652845223706050714320739072194942391518, 'SPKPUB.X': 31229216498439133952347392112572115637714405472383255423741905893245939825627, 'SPKPUB.Y': 15829632064927002234237681052859941715925515902168887028034362059443643752689}\n"
     ]
    }
   ],
   "source": [
    "SPK_A_message = SPK_A_Pub.x.to_bytes(math.ceil(SPK_A_Pub.x.bit_length()/8), 'big') + SPK_A_Pub.y.to_bytes(math.ceil(SPK_A_Pub.y.bit_length()/8), 'big')\n",
    "SPK_A_h, SPK_A_s = SignGen(SPK_A_message, E, IKey_Pr)\n",
    "SPK_S_X, SPK_S_Y, SPK_S_h, SPK_S_s = SPKReg(SPK_A_h, SPK_A_s, SPK_A_Pub.x, SPK_A_Pub.y)\n",
    "SPK_S_Pub = Point(SPK_S_X, SPK_S_Y, E)"
   ]
  },
  {
   "cell_type": "code",
   "execution_count": 27,
   "metadata": {},
   "outputs": [],
   "source": [
    "# Generate HMAX Key\n",
    "T = SPK_A_Pri * SPK_S_Pub\n",
    "U = b'CuriosityIsTheHMACKeyToCreativity' + T.y.to_bytes(math.ceil(T.y.bit_length()/8), 'big') + T.x.to_bytes(math.ceil(T.x.bit_length()/8), 'big')\n",
    "K_HMAC = SHA3_256.new(U).digest()"
   ]
  },
  {
   "cell_type": "code",
   "execution_count": 28,
   "metadata": {},
   "outputs": [
    {
     "name": "stdout",
     "output_type": "stream",
     "text": [
      "Sending message is:  {'ID': 28374, 'H': 14003361747863711575107485847218966247208491174002245767442180511820528443999, 'S': 26129671104882079018878570807775261477349243389097282567295507801782727186724}\n",
      "All OTKs deleted !\n",
      "Sending message is:  {'ID': 28374, 'KEYID': 0, 'OTKI.X': 101457935187289959549774382001967187134295054504843516554480847645073999987645, 'OTKI.Y': 11911560202403333263968076013219746668260855346719311704286896541245349581874, 'HMACI': '5c00bff522d437ba52a9c1530d45085d1b48fbba21fb0edaafaae2c5964755f7'}\n",
      "OTK with ID number 0 is registered successfully\n",
      "Sending message is:  {'ID': 28374, 'KEYID': 1, 'OTKI.X': 3426649075372119385279104271382046654625026328089963360978174516973254203842, 'OTKI.Y': 97822467676486121885870613333710815293671317322411685955530951191424376194970, 'HMACI': '575d718ad531b8a61294d1e4a514f5f190956dfcdad3675a02cdae9587d9183a'}\n",
      "OTK with ID number 1 is registered successfully\n",
      "Sending message is:  {'ID': 28374, 'KEYID': 2, 'OTKI.X': 48213255851923906058197359725678433644509233881546960396685198302746294214753, 'OTKI.Y': 79374979332991953047792136882064858635195818499501742370475399660727085071397, 'HMACI': '5eb22caafaaec54e5b886bba7d311db6a4ba027dcbac2779362887b95b74887f'}\n",
      "OTK with ID number 2 is registered successfully\n",
      "Sending message is:  {'ID': 28374, 'KEYID': 3, 'OTKI.X': 51230286119337886582934756532348347081580019093192452165612125797522739654535, 'OTKI.Y': 441896306976790132783896229297523573902867899853158166177742608401151636462, 'HMACI': 'b3735324535488d64db5ce4b98a4e91d0d9fe969f8141e2b58d4dce264373996'}\n",
      "OTK with ID number 3 is registered successfully\n",
      "Sending message is:  {'ID': 28374, 'KEYID': 4, 'OTKI.X': 107204774680723962576228715256224567714455220276163867721757147474247653163950, 'OTKI.Y': 92302607550726152470042381258520787124927669393830825483920099548100290298811, 'HMACI': '934dbc768ef29e36cd05450595de98a23ab5ead594254dfa431a14716105e49e'}\n",
      "OTK with ID number 4 is registered successfully\n",
      "Sending message is:  {'ID': 28374, 'KEYID': 5, 'OTKI.X': 100713146774234659809675949005993653200809761186867089187140324228504308984527, 'OTKI.Y': 76879388200058566723479597142622918109652256638289019641314517191755972401671, 'HMACI': 'dcc7b38a16428a011c276e6072e531c4ece7444082028c0c01ed29a7e2454e30'}\n",
      "OTK with ID number 5 is registered successfully\n",
      "Sending message is:  {'ID': 28374, 'KEYID': 6, 'OTKI.X': 92215056161666656778301117955551994037212295826810681910650968249239228406195, 'OTKI.Y': 75591758924269347215350838694602500732574657876049552106098792763502202014565, 'HMACI': 'de7786dbe64bfde8c6187c0bf9be8bb7d85cf35566337bbdf4ea5f8afed65251'}\n",
      "OTK with ID number 6 is registered successfully\n",
      "Sending message is:  {'ID': 28374, 'KEYID': 7, 'OTKI.X': 12452099970714546113540227593651762510974321665621919474897840864016557429022, 'OTKI.Y': 59702415941178607040135674910616592013250580541514499665630111103009791465585, 'HMACI': '857a176f4876b84fb95bd6b5713c23d9d27ee682a7067167791872aa611691fb'}\n",
      "OTK with ID number 7 is registered successfully\n",
      "Sending message is:  {'ID': 28374, 'KEYID': 8, 'OTKI.X': 53001102488668511313736844227022983505094981793801401621890209044561576517982, 'OTKI.Y': 4710822120096823482196423509043975123713007333910771994388812212960355342513, 'HMACI': '7c2270325263f34684b447474d63144fdb64b6d3ccdbc837ef0bd2def663b6cc'}\n",
      "OTK with ID number 8 is registered successfully\n",
      "Sending message is:  {'ID': 28374, 'KEYID': 9, 'OTKI.X': 3232139333429513129533708028628445371528629411626259133379468357546146005684, 'OTKI.Y': 111220904765951850820665713702431691455114936263478851420864841125481074876096, 'HMACI': '15c27f8c91a58a6cc2444bc0ccf8ab7c4432928eaceab2f1afb7a461bff7a23c'}\n",
      "OTK with ID number 9 is registered successfully\n"
     ]
    }
   ],
   "source": [
    "# Generate OTKs\n",
    "ResetOTK(stuID_signed[0], stuID_signed[1])\n",
    "OTKs=[]\n",
    "for i in range(10):\n",
    "  priv, pub = GenerateKey()\n",
    "  m = pub.x.to_bytes(math.ceil(pub.x.bit_length()/8), 'big') + pub.y.to_bytes(math.ceil(pub.y.bit_length()/8), 'big')\n",
    "  hmaci = HMAC.new(K_HMAC, m, digestmod=SHA256).hexdigest()\n",
    "  OTKReg(i, pub.x, pub.y, hmaci)\n",
    "  OTKs.append(priv)"
   ]
  },
  {
   "cell_type": "code",
   "execution_count": 29,
   "metadata": {},
   "outputs": [
    {
     "name": "stdout",
     "output_type": "stream",
     "text": [
      "Sending message is:  {'ID': 28374, 'H': 14003361747863711575107485847218966247208491174002245767442180511820528443999, 'S': 26129671104882079018878570807775261477349243389097282567295507801782727186724}\n",
      "Your favourite pseudo-client sent you 5 messages. You can get them from the server\n"
     ]
    }
   ],
   "source": [
    "PseudoSendMsg(stuID_signed[0], stuID_signed[1])"
   ]
  },
  {
   "cell_type": "code",
   "execution_count": 30,
   "metadata": {},
   "outputs": [],
   "source": [
    "def GetSessionKey(OTK, EK):\n",
    "  T = OTK * EK\n",
    "  U = T.x.to_bytes(math.ceil(T.x.bit_length()/8), \"big\") + T.y.to_bytes(math.ceil(T.y.bit_length()/8), \"big\") + b'ToBeOrNotToBe'\n",
    "  KS = SHA3_256.new(U).digest()\n",
    "  return KS"
   ]
  },
  {
   "cell_type": "code",
   "execution_count": 31,
   "metadata": {},
   "outputs": [],
   "source": [
    "def GetKDF(K_KDF):\n",
    "  K_ENC = SHA3_256.new(K_KDF + b'YouTalkingToMe').digest()\n",
    "  K_HMAC = SHA3_256.new(K_KDF + K_ENC + b'YouCannotHandleTheTruth').digest()\n",
    "  K_KDF_N = SHA3_256.new(K_ENC + K_HMAC + b'MayTheForceBeWithYou').digest()\n",
    "  return K_ENC, K_HMAC, K_KDF_N"
   ]
  },
  {
   "cell_type": "code",
   "execution_count": 32,
   "metadata": {},
   "outputs": [],
   "source": [
    "def VerifyHMAC(m, K_HMAC):\n",
    "  nonce = m[:8]\n",
    "  hmac = m[-32:]\n",
    "  msg = m[8:-32]\n",
    "\n",
    "  hmac_new = HMAC.new(K_HMAC, msg,digestmod=SHA256)\n",
    "  hmac_final = hmac_new.digest()\n",
    "\n",
    "  if(hmac == hmac_final):\n",
    "    return m[:-32]\n",
    "  return \"INVALIDHMAC\""
   ]
  },
  {
   "cell_type": "code",
   "execution_count": 33,
   "metadata": {},
   "outputs": [],
   "source": [
    "def AesDecrypt(ctext, key):\n",
    "  cipher = AES.new(key, AES.MODE_CTR, nonce=ctext[:8])\n",
    "  ptext = cipher.decrypt(ctext[8:])\n",
    "  ptext = ptext.decode('UTF-8')\n",
    "  print(\"plaintext:\", ptext)\n",
    "  return ptext"
   ]
  },
  {
   "cell_type": "code",
   "execution_count": 37,
   "metadata": {},
   "outputs": [
    {
     "name": "stdout",
     "output_type": "stream",
     "text": [
      "Sending message is:  {'ID': 28374, 'H': 14003361747863711575107485847218966247208491174002245767442180511820528443999, 'S': 26129671104882079018878570807775261477349243389097282567295507801782727186724}\n",
      "There is no message in your message box. Pseudo client will send you messages if you call this method: PseudoSendMsg\n"
     ]
    },
    {
     "ename": "TypeError",
     "evalue": "cannot unpack non-iterable NoneType object",
     "output_type": "error",
     "traceback": [
      "\u001b[1;31m---------------------------------------------------------------------------\u001b[0m",
      "\u001b[1;31mTypeError\u001b[0m                                 Traceback (most recent call last)",
      "Cell \u001b[1;32mIn[37], line 2\u001b[0m\n\u001b[0;32m      1\u001b[0m \u001b[39mfor\u001b[39;00m i \u001b[39min\u001b[39;00m \u001b[39mrange\u001b[39m(\u001b[39m5\u001b[39m):\n\u001b[1;32m----> 2\u001b[0m   stuIDB, otkID, msgID, msg, EK_X, EK_Y \u001b[39m=\u001b[39m ReqMsg(stuID_signed[\u001b[39m0\u001b[39m], stuID_signed[\u001b[39m1\u001b[39m])\n\u001b[0;32m      3\u001b[0m   KS \u001b[39m=\u001b[39m GetSessionKey(OTKs[otkID], Point(EK_X, EK_Y, E))\n\u001b[0;32m      4\u001b[0m   \u001b[39mif\u001b[39;00m i \u001b[39m==\u001b[39m \u001b[39m0\u001b[39m:\n",
      "\u001b[1;31mTypeError\u001b[0m: cannot unpack non-iterable NoneType object"
     ]
    }
   ],
   "source": [
    "for i in range(5):\n",
    "  stuIDB, otkID, msgID, msg, EK_X, EK_Y = ReqMsg(stuID_signed[0], stuID_signed[1])\n",
    "  KS = GetSessionKey(OTKs[otkID], Point(EK_X, EK_Y, E))\n",
    "  if i == 0:\n",
    "    K_ENC, K_HMAC, K_KDF_N = GetKDF(KS)\n",
    "  else:\n",
    "    K_ENC, K_HMAC, K_KDF_N = GetKDF(K_KDF_N)\n",
    "\n",
    "  msg = VerifyHMAC(msg.to_bytes(math.ceil(msg.bit_length()/8),\"big\"), K_HMAC)\n",
    "  \n",
    "  if(msg!=\"INVALIDHMAC\"):\n",
    "    plaintext = AesDecrypt(msg, K_ENC)\n",
    "    Checker(stuID, stuIDB, msgID, plaintext)\n",
    "  else:\n",
    "    print(\"Invalid\")\n",
    "    Checker(stuID, stuIDB, msgID, \"INVALIDHMAC\")"
   ]
  },
  {
   "cell_type": "code",
   "execution_count": 36,
   "metadata": {},
   "outputs": [
    {
     "name": "stdout",
     "output_type": "stream",
     "text": [
      "Sending message is:  {'ID': 28374, 'H': 14003361747863711575107485847218966247208491174002245767442180511820528443999, 'S': 26129671104882079018878570807775261477349243389097282567295507801782727186724}\n",
      "There are no deleted messages in the last message block !!\n"
     ]
    }
   ],
   "source": [
    "ReqDelMsg(stuID_signed[0],stuID_signed[1])"
   ]
  }
 ],
 "metadata": {
  "kernelspec": {
   "display_name": "Python 3",
   "language": "python",
   "name": "python3"
  },
  "language_info": {
   "codemirror_mode": {
    "name": "ipython",
    "version": 3
   },
   "file_extension": ".py",
   "mimetype": "text/x-python",
   "name": "python",
   "nbconvert_exporter": "python",
   "pygments_lexer": "ipython3",
   "version": "3.10.7"
  },
  "orig_nbformat": 4,
  "vscode": {
   "interpreter": {
    "hash": "f5fe054353a3ea95c740dbd5d0157a46c65128dd73b0bf0efea202159c214138"
   }
  }
 },
 "nbformat": 4,
 "nbformat_minor": 2
}
